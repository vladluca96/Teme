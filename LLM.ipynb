{
  "cells": [
    {
      "cell_type": "code",
      "execution_count": 1,
      "metadata": {
        "colab": {
          "base_uri": "https://localhost:8080/"
        },
        "id": "mUMmK-qwQ5wE",
        "outputId": "4e3581c0-f6a5-4285-e377-123576bed217"
      },
      "outputs": [
        {
          "output_type": "stream",
          "name": "stdout",
          "text": [
            "Collecting datasets\n",
            "  Downloading datasets-3.0.2-py3-none-any.whl.metadata (20 kB)\n",
            "Requirement already satisfied: filelock in /usr/local/lib/python3.10/dist-packages (from datasets) (3.16.1)\n",
            "Requirement already satisfied: numpy>=1.17 in /usr/local/lib/python3.10/dist-packages (from datasets) (1.26.4)\n",
            "Requirement already satisfied: pyarrow>=15.0.0 in /usr/local/lib/python3.10/dist-packages (from datasets) (16.1.0)\n",
            "Collecting dill<0.3.9,>=0.3.0 (from datasets)\n",
            "  Downloading dill-0.3.8-py3-none-any.whl.metadata (10 kB)\n",
            "Requirement already satisfied: pandas in /usr/local/lib/python3.10/dist-packages (from datasets) (2.2.2)\n",
            "Requirement already satisfied: requests>=2.32.2 in /usr/local/lib/python3.10/dist-packages (from datasets) (2.32.3)\n",
            "Requirement already satisfied: tqdm>=4.66.3 in /usr/local/lib/python3.10/dist-packages (from datasets) (4.66.5)\n",
            "Collecting xxhash (from datasets)\n",
            "  Downloading xxhash-3.5.0-cp310-cp310-manylinux_2_17_x86_64.manylinux2014_x86_64.whl.metadata (12 kB)\n",
            "Collecting multiprocess<0.70.17 (from datasets)\n",
            "  Downloading multiprocess-0.70.16-py310-none-any.whl.metadata (7.2 kB)\n",
            "Requirement already satisfied: fsspec<=2024.9.0,>=2023.1.0 in /usr/local/lib/python3.10/dist-packages (from fsspec[http]<=2024.9.0,>=2023.1.0->datasets) (2024.6.1)\n",
            "Requirement already satisfied: aiohttp in /usr/local/lib/python3.10/dist-packages (from datasets) (3.10.10)\n",
            "Requirement already satisfied: huggingface-hub>=0.23.0 in /usr/local/lib/python3.10/dist-packages (from datasets) (0.24.7)\n",
            "Requirement already satisfied: packaging in /usr/local/lib/python3.10/dist-packages (from datasets) (24.1)\n",
            "Requirement already satisfied: pyyaml>=5.1 in /usr/local/lib/python3.10/dist-packages (from datasets) (6.0.2)\n",
            "Requirement already satisfied: aiohappyeyeballs>=2.3.0 in /usr/local/lib/python3.10/dist-packages (from aiohttp->datasets) (2.4.3)\n",
            "Requirement already satisfied: aiosignal>=1.1.2 in /usr/local/lib/python3.10/dist-packages (from aiohttp->datasets) (1.3.1)\n",
            "Requirement already satisfied: attrs>=17.3.0 in /usr/local/lib/python3.10/dist-packages (from aiohttp->datasets) (24.2.0)\n",
            "Requirement already satisfied: frozenlist>=1.1.1 in /usr/local/lib/python3.10/dist-packages (from aiohttp->datasets) (1.4.1)\n",
            "Requirement already satisfied: multidict<7.0,>=4.5 in /usr/local/lib/python3.10/dist-packages (from aiohttp->datasets) (6.1.0)\n",
            "Requirement already satisfied: yarl<2.0,>=1.12.0 in /usr/local/lib/python3.10/dist-packages (from aiohttp->datasets) (1.16.0)\n",
            "Requirement already satisfied: async-timeout<5.0,>=4.0 in /usr/local/lib/python3.10/dist-packages (from aiohttp->datasets) (4.0.3)\n",
            "Requirement already satisfied: typing-extensions>=3.7.4.3 in /usr/local/lib/python3.10/dist-packages (from huggingface-hub>=0.23.0->datasets) (4.12.2)\n",
            "Requirement already satisfied: charset-normalizer<4,>=2 in /usr/local/lib/python3.10/dist-packages (from requests>=2.32.2->datasets) (3.4.0)\n",
            "Requirement already satisfied: idna<4,>=2.5 in /usr/local/lib/python3.10/dist-packages (from requests>=2.32.2->datasets) (3.10)\n",
            "Requirement already satisfied: urllib3<3,>=1.21.1 in /usr/local/lib/python3.10/dist-packages (from requests>=2.32.2->datasets) (2.2.3)\n",
            "Requirement already satisfied: certifi>=2017.4.17 in /usr/local/lib/python3.10/dist-packages (from requests>=2.32.2->datasets) (2024.8.30)\n",
            "Requirement already satisfied: python-dateutil>=2.8.2 in /usr/local/lib/python3.10/dist-packages (from pandas->datasets) (2.8.2)\n",
            "Requirement already satisfied: pytz>=2020.1 in /usr/local/lib/python3.10/dist-packages (from pandas->datasets) (2024.2)\n",
            "Requirement already satisfied: tzdata>=2022.7 in /usr/local/lib/python3.10/dist-packages (from pandas->datasets) (2024.2)\n",
            "Requirement already satisfied: six>=1.5 in /usr/local/lib/python3.10/dist-packages (from python-dateutil>=2.8.2->pandas->datasets) (1.16.0)\n",
            "Requirement already satisfied: propcache>=0.2.0 in /usr/local/lib/python3.10/dist-packages (from yarl<2.0,>=1.12.0->aiohttp->datasets) (0.2.0)\n",
            "Downloading datasets-3.0.2-py3-none-any.whl (472 kB)\n",
            "\u001b[2K   \u001b[90m━━━━━━━━━━━━━━━━━━━━━━━━━━━━━━━━━━━━━━━━\u001b[0m \u001b[32m472.7/472.7 kB\u001b[0m \u001b[31m22.7 MB/s\u001b[0m eta \u001b[36m0:00:00\u001b[0m\n",
            "\u001b[?25hDownloading dill-0.3.8-py3-none-any.whl (116 kB)\n",
            "\u001b[2K   \u001b[90m━━━━━━━━━━━━━━━━━━━━━━━━━━━━━━━━━━━━━━━━\u001b[0m \u001b[32m116.3/116.3 kB\u001b[0m \u001b[31m9.6 MB/s\u001b[0m eta \u001b[36m0:00:00\u001b[0m\n",
            "\u001b[?25hDownloading multiprocess-0.70.16-py310-none-any.whl (134 kB)\n",
            "\u001b[2K   \u001b[90m━━━━━━━━━━━━━━━━━━━━━━━━━━━━━━━━━━━━━━━━\u001b[0m \u001b[32m134.8/134.8 kB\u001b[0m \u001b[31m11.4 MB/s\u001b[0m eta \u001b[36m0:00:00\u001b[0m\n",
            "\u001b[?25hDownloading xxhash-3.5.0-cp310-cp310-manylinux_2_17_x86_64.manylinux2014_x86_64.whl (194 kB)\n",
            "\u001b[2K   \u001b[90m━━━━━━━━━━━━━━━━━━━━━━━━━━━━━━━━━━━━━━━━\u001b[0m \u001b[32m194.1/194.1 kB\u001b[0m \u001b[31m16.9 MB/s\u001b[0m eta \u001b[36m0:00:00\u001b[0m\n",
            "\u001b[?25hInstalling collected packages: xxhash, dill, multiprocess, datasets\n",
            "Successfully installed datasets-3.0.2 dill-0.3.8 multiprocess-0.70.16 xxhash-3.5.0\n"
          ]
        }
      ],
      "source": [
        "!pip install datasets"
      ]
    },
    {
      "cell_type": "code",
      "execution_count": 2,
      "metadata": {
        "id": "7obTIx4AECqS"
      },
      "outputs": [],
      "source": [
        "import tensorflow as tf\n",
        "import pandas as pd\n",
        "import numpy as np\n",
        "import json\n",
        "import re\n",
        "import os\n",
        "import shutil\n",
        "import datasets\n",
        "\n",
        "from sklearn.metrics import accuracy_score, f1_score\n",
        "import torch\n",
        "from transformers import AutoTokenizer, AutoModelForSequenceClassification, Trainer, TrainingArguments\n",
        "from datasets import Dataset\n",
        "\n",
        "\n",
        "# from transformers import BertTokenizer, TFBertForSequenceClassification\n",
        "# from transformers import InputExample, InputFeatures\n",
        "# # from deep_translator import GoogleTranslator\n",
        "from datasets import Dataset\n",
        "\n",
        "from transformers import AutoModelForSequenceClassification, AutoTokenizer, Trainer, TrainingArguments\n",
        "# from sklearn.model_selection import train_test_split\n",
        "# import torch\n",
        "\n",
        "# from sklearn.metrics import accuracy_score\n",
        "# os.environ['TF_ENABLE_ONEDNN_OPTS'] = '0'\n"
      ]
    },
    {
      "cell_type": "code",
      "source": [
        "from sklearn.model_selection import train_test_split"
      ],
      "metadata": {
        "id": "fa8CaWeI4B9t"
      },
      "execution_count": 22,
      "outputs": []
    },
    {
      "cell_type": "markdown",
      "source": [
        "# Old data\n"
      ],
      "metadata": {
        "id": "irgx6YW_yqRE"
      }
    },
    {
      "cell_type": "code",
      "execution_count": 3,
      "metadata": {
        "colab": {
          "base_uri": "https://localhost:8080/"
        },
        "id": "IAY5FAZbWZIh",
        "outputId": "3aa2977b-8078-47ec-9219-005c81b3006d"
      },
      "outputs": [
        {
          "output_type": "stream",
          "name": "stdout",
          "text": [
            "--2024-10-27 02:38:29--  https://raw.githubusercontent.com/ancatache/LaRoSeDa/main/data_splitted/laroseda_train.json\n",
            "Resolving raw.githubusercontent.com (raw.githubusercontent.com)... 185.199.108.133, 185.199.109.133, 185.199.110.133, ...\n",
            "Connecting to raw.githubusercontent.com (raw.githubusercontent.com)|185.199.108.133|:443... connected.\n",
            "HTTP request sent, awaiting response... 200 OK\n",
            "Length: 4231664 (4.0M) [text/plain]\n",
            "Saving to: ‘laroseda_train.json’\n",
            "\n",
            "laroseda_train.json 100%[===================>]   4.04M  --.-KB/s    in 0.01s   \n",
            "\n",
            "2024-10-27 02:38:30 (287 MB/s) - ‘laroseda_train.json’ saved [4231664/4231664]\n",
            "\n"
          ]
        }
      ],
      "source": [
        "!wget \"https://raw.githubusercontent.com/ancatache/LaRoSeDa/main/data_splitted/laroseda_train.json\"\n",
        "f = open('laroseda_train.json')\n",
        "# returns JSON object as\n",
        "# a dictionary\n",
        "train_data = json.load(f)\n",
        "\n",
        "# Closing file\n",
        "f.close()"
      ]
    },
    {
      "cell_type": "code",
      "execution_count": 4,
      "metadata": {
        "colab": {
          "base_uri": "https://localhost:8080/"
        },
        "id": "wEvgICCqUxIl",
        "outputId": "35170a40-12e2-4f36-e076-b16af9355589"
      },
      "outputs": [
        {
          "output_type": "stream",
          "name": "stdout",
          "text": [
            "--2024-10-27 02:38:30--  https://raw.githubusercontent.com/ancatache/LaRoSeDa/main/data_splitted/laroseda_test.json\n",
            "Resolving raw.githubusercontent.com (raw.githubusercontent.com)... 185.199.108.133, 185.199.109.133, 185.199.110.133, ...\n",
            "Connecting to raw.githubusercontent.com (raw.githubusercontent.com)|185.199.108.133|:443... connected.\n",
            "HTTP request sent, awaiting response... 200 OK\n",
            "Length: 1025519 (1001K) [text/plain]\n",
            "Saving to: ‘laroseda_test.json’\n",
            "\n",
            "laroseda_test.json  100%[===================>]   1001K  --.-KB/s    in 0.006s  \n",
            "\n",
            "2024-10-27 02:38:30 (163 MB/s) - ‘laroseda_test.json’ saved [1025519/1025519]\n",
            "\n"
          ]
        }
      ],
      "source": [
        "!wget \"https://raw.githubusercontent.com/ancatache/LaRoSeDa/main/data_splitted/laroseda_test.json\"\n",
        "f = open('laroseda_test.json')\n",
        "# returns JSON object as\n",
        "# a dictionary\n",
        "test_data = json.load(f)\n",
        "\n",
        "# Closing file\n",
        "f.close()\n"
      ]
    },
    {
      "cell_type": "code",
      "execution_count": 5,
      "metadata": {
        "id": "OdIiW_pZD-rh"
      },
      "outputs": [],
      "source": [
        "def prep_doc(doc):\n",
        "    cleaned = list()\n",
        "    for i in doc:\n",
        "        rev = i['title'] + ' . ' + i['content']\n",
        "        # rev=i['content']\n",
        "        # rev = re.sub('(?<! )(?=[.,!?()])|(?<=[.,!?()])(?! )', r' ', rev)\n",
        "        rev = rev.lower()\n",
        "        rev = re.sub(r'\\s+', ' ', rev)\n",
        "        rev = re.sub(r'(?<! )(?=[.,!?()\"\\'/:;/\\\\\\[^\\]])|(?<=[.,!?()\"\\'/:;/\\\\\\[^\\]])(?! )', r' ', rev)\n",
        "        cleaned.append(rev)\n",
        "    return cleaned\n",
        "\n",
        "\n",
        "def read_data(set):\n",
        "    pos_data = list()\n",
        "    neg_data = list()\n",
        "    for i in set:\n",
        "        # print(i)\n",
        "        match i['starRating']:\n",
        "            case '1':\n",
        "                neg_data.append(i)\n",
        "            case '2':\n",
        "                neg_data.append(i)\n",
        "            case '4':\n",
        "                pos_data.append(i)\n",
        "            case '5':\n",
        "                pos_data.append(i)\n",
        "    return neg_data, pos_data\n",
        "\n",
        "\n",
        "def read_docs():\n",
        "    f = open('laroseda_train.json')\n",
        "    # returns JSON object as\n",
        "    # a dictionary\n",
        "    train_data = json.load(f)\n",
        "    f.close()\n",
        "\n",
        "    f = open('laroseda_test.json')\n",
        "    # returns JSON object as\n",
        "    # a dictionary\n",
        "    test_data = json.load(f)\n",
        "    # Closing file\n",
        "    f.close()\n",
        "\n",
        "    train_neg, train_pos = read_data(train_data['reviews'])\n",
        "    test_neg, test_pos = read_data(test_data['reviews'])\n",
        "\n",
        "    train_pos_clean = prep_doc(train_pos)\n",
        "    train_neg_clean = prep_doc(train_neg)\n",
        "    test_pos_clean = prep_doc(test_pos)\n",
        "    test_neg_clean = prep_doc(test_neg)\n",
        "\n",
        "    return train_pos_clean, train_neg_clean, test_pos_clean, test_neg_clean"
      ]
    },
    {
      "cell_type": "code",
      "source": [
        "# Load and preprocess data\n",
        "train_pos_clean, train_neg_clean, test_pos_clean, test_neg_clean = read_docs()\n",
        "\n",
        "train_texts = train_pos_clean + train_neg_clean\n",
        "train_labels = [1] * len(train_pos_clean) + [0] * len(train_neg_clean)\n",
        "\n",
        "test_texts = test_pos_clean + test_neg_clean\n",
        "test_labels = [1] * len(test_pos_clean) + [0] * len(test_neg_clean)"
      ],
      "metadata": {
        "id": "CFNKSf1o31un"
      },
      "execution_count": null,
      "outputs": []
    },
    {
      "cell_type": "code",
      "source": [
        "import os\n",
        "os.environ['CUDA_LAUNCH_BLOCKING'] = \"1\""
      ],
      "metadata": {
        "id": "CRiOGET0U2Ut"
      },
      "execution_count": 6,
      "outputs": []
    },
    {
      "cell_type": "markdown",
      "source": [
        "# New Data"
      ],
      "metadata": {
        "id": "2-LaHglMy-Um"
      }
    },
    {
      "cell_type": "code",
      "source": [
        "!wget 'https://raw.githubusercontent.com/ACS-SII/proiect-2024-sentiment-analysis-study/refs/heads/main/new_set/reviews_rating_1.json'\n",
        "f = open('reviews_rating_1.json')\n",
        "test_data_1 = json.load(f)\n",
        "f.close()\n",
        "!wget 'https://raw.githubusercontent.com/ACS-SII/proiect-2024-sentiment-analysis-study/refs/heads/main/new_set/reviews_rating_2.json'\n",
        "f = open('reviews_rating_2.json')\n",
        "test_data_2 = json.load(f)\n",
        "f.close()\n",
        "!wget 'https://raw.githubusercontent.com/ACS-SII/proiect-2024-sentiment-analysis-study/refs/heads/main/new_set/reviews_rating_3.json'\n",
        "f = open('reviews_rating_3.json')\n",
        "test_data_3 = json.load(f)\n",
        "f.close()\n",
        "!wget 'https://raw.githubusercontent.com/ACS-SII/proiect-2024-sentiment-analysis-study/refs/heads/main/new_set/reviews_rating_4.json'\n",
        "f = open('reviews_rating_4.json')\n",
        "test_data_4 = json.load(f)\n",
        "f.close()\n",
        "!wget 'https://raw.githubusercontent.com/ACS-SII/proiect-2024-sentiment-analysis-study/refs/heads/main/new_set/reviews_rating_5.json'\n",
        "f = open('reviews_rating_5.json')\n",
        "test_data_5 = json.load(f)\n",
        "f.close()\n"
      ],
      "metadata": {
        "colab": {
          "base_uri": "https://localhost:8080/"
        },
        "id": "EtmuSOGszpyL",
        "outputId": "c1bacfc5-e163-4d33-c617-88df61a1fe52"
      },
      "execution_count": 18,
      "outputs": [
        {
          "output_type": "stream",
          "name": "stdout",
          "text": [
            "--2024-10-27 02:43:34--  https://raw.githubusercontent.com/ACS-SII/proiect-2024-sentiment-analysis-study/refs/heads/main/new_set/reviews_rating_1.json\n",
            "Resolving raw.githubusercontent.com (raw.githubusercontent.com)... 185.199.108.133, 185.199.109.133, 185.199.110.133, ...\n",
            "Connecting to raw.githubusercontent.com (raw.githubusercontent.com)|185.199.108.133|:443... connected.\n",
            "HTTP request sent, awaiting response... 200 OK\n",
            "Length: 588174 (574K) [text/plain]\n",
            "Saving to: ‘reviews_rating_1.json.1’\n",
            "\n",
            "reviews_rating_1.js 100%[===================>] 574.39K  --.-KB/s    in 0.004s  \n",
            "\n",
            "2024-10-27 02:43:34 (137 MB/s) - ‘reviews_rating_1.json.1’ saved [588174/588174]\n",
            "\n",
            "--2024-10-27 02:43:34--  https://raw.githubusercontent.com/ACS-SII/proiect-2024-sentiment-analysis-study/refs/heads/main/new_set/reviews_rating_2.json\n",
            "Resolving raw.githubusercontent.com (raw.githubusercontent.com)... 185.199.108.133, 185.199.109.133, 185.199.110.133, ...\n",
            "Connecting to raw.githubusercontent.com (raw.githubusercontent.com)|185.199.108.133|:443... connected.\n",
            "HTTP request sent, awaiting response... 200 OK\n",
            "Length: 641048 (626K) [text/plain]\n",
            "Saving to: ‘reviews_rating_2.json.1’\n",
            "\n",
            "reviews_rating_2.js 100%[===================>] 626.02K  --.-KB/s    in 0.007s  \n",
            "\n",
            "2024-10-27 02:43:34 (91.8 MB/s) - ‘reviews_rating_2.json.1’ saved [641048/641048]\n",
            "\n",
            "--2024-10-27 02:43:34--  https://raw.githubusercontent.com/ACS-SII/proiect-2024-sentiment-analysis-study/refs/heads/main/new_set/reviews_rating_3.json\n",
            "Resolving raw.githubusercontent.com (raw.githubusercontent.com)... 185.199.108.133, 185.199.109.133, 185.199.110.133, ...\n",
            "Connecting to raw.githubusercontent.com (raw.githubusercontent.com)|185.199.108.133|:443... connected.\n",
            "HTTP request sent, awaiting response... 200 OK\n",
            "Length: 1364449 (1.3M) [text/plain]\n",
            "Saving to: ‘reviews_rating_3.json’\n",
            "\n",
            "reviews_rating_3.js 100%[===================>]   1.30M  --.-KB/s    in 0.01s   \n",
            "\n",
            "2024-10-27 02:43:35 (125 MB/s) - ‘reviews_rating_3.json’ saved [1364449/1364449]\n",
            "\n",
            "--2024-10-27 02:43:35--  https://raw.githubusercontent.com/ACS-SII/proiect-2024-sentiment-analysis-study/refs/heads/main/new_set/reviews_rating_4.json\n",
            "Resolving raw.githubusercontent.com (raw.githubusercontent.com)... 185.199.108.133, 185.199.109.133, 185.199.110.133, ...\n",
            "Connecting to raw.githubusercontent.com (raw.githubusercontent.com)|185.199.108.133|:443... connected.\n",
            "HTTP request sent, awaiting response... 200 OK\n",
            "Length: 692647 (676K) [text/plain]\n",
            "Saving to: ‘reviews_rating_4.json.1’\n",
            "\n",
            "reviews_rating_4.js 100%[===================>] 676.41K  --.-KB/s    in 0.02s   \n",
            "\n",
            "2024-10-27 02:43:35 (35.3 MB/s) - ‘reviews_rating_4.json.1’ saved [692647/692647]\n",
            "\n",
            "--2024-10-27 02:43:35--  https://raw.githubusercontent.com/ACS-SII/proiect-2024-sentiment-analysis-study/refs/heads/main/new_set/reviews_rating_5.json\n",
            "Resolving raw.githubusercontent.com (raw.githubusercontent.com)... 185.199.108.133, 185.199.109.133, 185.199.110.133, ...\n",
            "Connecting to raw.githubusercontent.com (raw.githubusercontent.com)|185.199.108.133|:443... connected.\n",
            "HTTP request sent, awaiting response... 200 OK\n",
            "Length: 1027157 (1003K) [text/plain]\n",
            "Saving to: ‘reviews_rating_5.json.1’\n",
            "\n",
            "reviews_rating_5.js 100%[===================>]   1003K  --.-KB/s    in 0.006s  \n",
            "\n",
            "2024-10-27 02:43:36 (153 MB/s) - ‘reviews_rating_5.json.1’ saved [1027157/1027157]\n",
            "\n"
          ]
        }
      ]
    },
    {
      "cell_type": "code",
      "source": [
        "def prep_doc_new(doc):\n",
        "    cleaned = list()\n",
        "    for rev in doc:\n",
        "        if not isinstance(rev,str):\n",
        "          continue\n",
        "        # rev = i['title'] + ' . ' + i['content']\n",
        "        # rev=i['content']\n",
        "        # rev = re.sub('(?<! )(?=[.,!?()])|(?<=[.,!?()])(?! )', r' ', rev)\n",
        "        rev = rev.lower()\n",
        "        rev = re.sub(r'\\s+', ' ', rev)\n",
        "        rev = re.sub(r'(?<! )(?=[.,!?()\"\\'/:;/\\\\\\[^\\]])|(?<=[.,!?()\"\\'/:;/\\\\\\[^\\]])(?! )', r' ', rev)\n",
        "        cleaned.append(rev)\n",
        "    return cleaned\n"
      ],
      "metadata": {
        "id": "NNR4OGg60kmN"
      },
      "execution_count": 16,
      "outputs": []
    },
    {
      "cell_type": "code",
      "source": [
        "# test_data_pos = test_data_1 + test_data_2 + test_data_4 + test_data_5\n",
        "data_clean_neg = prep_doc_new(test_data_1+test_data_2+test_data_3)\n",
        "data_clean_pos = prep_doc_new(test_data_4+test_data_5)\n",
        "\n",
        "data_clean_pos = data_clean_pos[:10000]\n",
        "data_clean_neg = data_clean_neg[:10000]\n",
        "\n",
        "y_opt = [1] * len(data_clean_pos) + [0] * len(data_clean_neg)\n",
        "X_opt = data_clean_pos + data_clean_neg\n",
        "\n",
        "print(len(data_clean_neg))\n",
        "print(len(data_clean_pos))\n",
        "\n",
        "train_texts, test_texts, train_labels, test_labels = train_test_split(X_opt, y_opt, test_size=0.2, random_state=42)"
      ],
      "metadata": {
        "colab": {
          "base_uri": "https://localhost:8080/"
        },
        "id": "b4wkq4Uh0L_-",
        "outputId": "587ebaa2-31d7-4965-e5e7-af10280c9a57"
      },
      "execution_count": 23,
      "outputs": [
        {
          "output_type": "stream",
          "name": "stdout",
          "text": [
            "10000\n",
            "10000\n"
          ]
        }
      ]
    },
    {
      "cell_type": "markdown",
      "source": [
        "# Test"
      ],
      "metadata": {
        "id": "FLpL8gSLyxS5"
      }
    },
    {
      "cell_type": "code",
      "source": [
        "def compute_metrics(eval_pred):\n",
        "    logits, labels = eval_pred\n",
        "    if isinstance(logits, tuple):\n",
        "        logits = logits[0]  # Unpack the first element of the tuple\n",
        "    print(\"Logits shape:\", logits.shape)\n",
        "    predictions = np.argmax(logits, axis=-1)\n",
        "    accuracy = accuracy_score(labels, predictions)\n",
        "    f1 = f1_score(labels, predictions, average='weighted')\n",
        "    return {\"accuracy\": accuracy, \"f1_score\": f1}\n",
        "\n",
        "def run_test(model_identifier, train_texts, test_texts, train_labels, test_labels):\n",
        "    # Load pre-trained model and tokenizer\n",
        "    tokenizer = AutoTokenizer.from_pretrained(model_identifier)\n",
        "\n",
        "    # Add a new padding token if not already present\n",
        "    if tokenizer.pad_token is None:\n",
        "        tokenizer.add_special_tokens({'pad_token': '[PAD]'})\n",
        "\n",
        "    model = AutoModelForSequenceClassification.from_pretrained(model_identifier, num_labels=2)\n",
        "\n",
        "    # Resize token embeddings after adding new special tokens\n",
        "    model.resize_token_embeddings(len(tokenizer))\n",
        "\n",
        "    # Set the padding token ID in the model configuration\n",
        "    model.config.pad_token_id = tokenizer.pad_token_id\n",
        "\n",
        "    # Tokenize the texts with padding and truncation\n",
        "    train_encodings = tokenizer(train_texts, truncation=True, padding=True, max_length=200)\n",
        "    test_encodings = tokenizer(test_texts, truncation=True, padding=True, max_length=200)\n",
        "\n",
        "    train_dataset = Dataset.from_dict({\n",
        "        'input_ids': train_encodings['input_ids'],\n",
        "        'attention_mask': train_encodings['attention_mask'],\n",
        "        'label': train_labels\n",
        "    })\n",
        "\n",
        "    test_dataset = Dataset.from_dict({\n",
        "        'input_ids': test_encodings['input_ids'],\n",
        "        'attention_mask': test_encodings['attention_mask'],\n",
        "        'label': test_labels\n",
        "    })\n",
        "\n",
        "    # Set the format of the datasets for PyTorch\n",
        "    train_dataset.set_format(type='torch', columns=['input_ids', 'attention_mask', 'label'])\n",
        "    test_dataset.set_format(type='torch', columns=['input_ids', 'attention_mask', 'label'])\n",
        "\n",
        "    training_args = TrainingArguments(\n",
        "        output_dir=\"./results\",\n",
        "        save_strategy=\"no\",\n",
        "        num_train_epochs=3,\n",
        "        per_device_train_batch_size=8,\n",
        "        per_device_eval_batch_size=32,\n",
        "        evaluation_strategy=\"epoch\",\n",
        "        logging_dir=\"./logs\",\n",
        "        report_to=\"none\"  # Disable wandb\n",
        "\n",
        "    )\n",
        "\n",
        "    trainer = Trainer(\n",
        "        model=model,\n",
        "        args=training_args,\n",
        "        train_dataset=train_dataset,\n",
        "        eval_dataset=test_dataset,\n",
        "        tokenizer=tokenizer,\n",
        "        compute_metrics=compute_metrics\n",
        "    )\n",
        "\n",
        "    trainer.train()\n",
        "\n",
        "    # Evaluate the model\n",
        "    eval_result = trainer.evaluate()\n",
        "    print(f\"Evaluation results: {eval_result}\")\n",
        "\n",
        "    return eval_result\n",
        "\n"
      ],
      "metadata": {
        "id": "n1jupGF0BiPh"
      },
      "execution_count": 27,
      "outputs": []
    },
    {
      "cell_type": "code",
      "source": [
        "\n",
        "\n",
        "\n",
        "names = [\n",
        "        #  'dumitrescustefan/t5-v1_1-base-romanian'\n",
        "        #  'racai/distilbert-base-romanian-uncased', #--\n",
        "        #  'racai/distilbert-base-romanian-cased', #--\n",
        "         'dumitrescustefan/bert-base-romanian-uncased-v1', #---\n",
        "        #  'dumitrescustefan/bert-base-romanian-cased-v1', #---\n",
        "        #  'xlm-roberta-base' #---\n",
        "        #  'bert-base-multilingual-cased',  #---\n",
        "        #  'bert-base-multilingual-uncased',  #---\n",
        "        #  'gpt2',  # The standard GPT-2 model identifier #---\n",
        "        #  'DGurgurov/xlm-r_romanian_sentiment' #---\n",
        "        #  'readerbench/RoGPT2-base'\n",
        "\n",
        "]\n",
        "\n",
        " #  'OpenLLM-Ro/RoLlama2-7b-Base',\n",
        " #  'OpenLLM-Ro/RoGemma-7b-Instruct',\n",
        "\n",
        "# Run the test with GPT-2\n",
        "eval_result = run_test(names[0], train_texts, test_texts, train_labels, test_labels)\n"
      ],
      "metadata": {
        "colab": {
          "base_uri": "https://localhost:8080/",
          "height": 297
        },
        "id": "tfwFQtsbBtou",
        "outputId": "e016f438-d2a2-4ba5-da40-2ff64caa2ef0"
      },
      "execution_count": null,
      "outputs": [
        {
          "output_type": "stream",
          "name": "stderr",
          "text": [
            "/usr/local/lib/python3.10/dist-packages/transformers/tokenization_utils_base.py:1601: FutureWarning: `clean_up_tokenization_spaces` was not set. It will be set to `True` by default. This behavior will be depracted in transformers v4.45, and will be then set to `False` by default. For more details check this issue: https://github.com/huggingface/transformers/issues/31884\n",
            "  warnings.warn(\n",
            "Some weights of BertForSequenceClassification were not initialized from the model checkpoint at dumitrescustefan/bert-base-romanian-uncased-v1 and are newly initialized: ['classifier.bias', 'classifier.weight']\n",
            "You should probably TRAIN this model on a down-stream task to be able to use it for predictions and inference.\n",
            "/usr/local/lib/python3.10/dist-packages/transformers/training_args.py:1525: FutureWarning: `evaluation_strategy` is deprecated and will be removed in version 4.46 of 🤗 Transformers. Use `eval_strategy` instead\n",
            "  warnings.warn(\n"
          ]
        },
        {
          "output_type": "display_data",
          "data": {
            "text/plain": [
              "<IPython.core.display.HTML object>"
            ],
            "text/html": [
              "\n",
              "    <div>\n",
              "      \n",
              "      <progress value='4977' max='6000' style='width:300px; height:20px; vertical-align: middle;'></progress>\n",
              "      [4977/6000 15:48 < 03:15, 5.24 it/s, Epoch 2.49/3]\n",
              "    </div>\n",
              "    <table border=\"1\" class=\"dataframe\">\n",
              "  <thead>\n",
              " <tr style=\"text-align: left;\">\n",
              "      <th>Epoch</th>\n",
              "      <th>Training Loss</th>\n",
              "      <th>Validation Loss</th>\n",
              "      <th>Accuracy</th>\n",
              "      <th>F1 Score</th>\n",
              "    </tr>\n",
              "  </thead>\n",
              "  <tbody>\n",
              "    <tr>\n",
              "      <td>1</td>\n",
              "      <td>0.484900</td>\n",
              "      <td>0.471766</td>\n",
              "      <td>0.785250</td>\n",
              "      <td>0.782627</td>\n",
              "    </tr>\n",
              "    <tr>\n",
              "      <td>2</td>\n",
              "      <td>0.370200</td>\n",
              "      <td>0.526162</td>\n",
              "      <td>0.793000</td>\n",
              "      <td>0.792883</td>\n",
              "    </tr>\n",
              "  </tbody>\n",
              "</table><p>"
            ]
          },
          "metadata": {}
        },
        {
          "output_type": "stream",
          "name": "stdout",
          "text": [
            "Logits shape: (4000, 2)\n",
            "Logits shape: (4000, 2)\n"
          ]
        }
      ]
    },
    {
      "cell_type": "code",
      "source": [
        "breq"
      ],
      "metadata": {
        "id": "InKHQqRYC5bI"
      },
      "execution_count": null,
      "outputs": []
    },
    {
      "cell_type": "code",
      "source": [
        "torch.cuda.empty_cache()\n"
      ],
      "metadata": {
        "id": "eDSyP9fB30oK"
      },
      "execution_count": null,
      "outputs": []
    },
    {
      "cell_type": "code",
      "execution_count": null,
      "metadata": {
        "id": "mqaUPCW4_22e"
      },
      "outputs": [],
      "source": [
        "from google.colab import runtime\n",
        "runtime.unassign()"
      ]
    }
  ],
  "metadata": {
    "accelerator": "GPU",
    "colab": {
      "gpuType": "L4",
      "machine_shape": "hm",
      "provenance": []
    },
    "kernelspec": {
      "display_name": "Python 3",
      "name": "python3"
    },
    "language_info": {
      "name": "python"
    }
  },
  "nbformat": 4,
  "nbformat_minor": 0
}